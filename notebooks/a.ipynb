{
 "cells": [
  {
   "cell_type": "code",
   "execution_count": null,
   "metadata": {},
   "outputs": [],
   "source": [
    "1+1"
   ]
  },
  {
   "cell_type": "code",
   "execution_count": null,
   "metadata": {},
   "outputs": [],
   "source": [
    "1+1"
   ]
  },
  {
   "cell_type": "code",
   "execution_count": null,
   "metadata": {},
   "outputs": [
    {
     "ename": "",
     "evalue": "",
     "output_type": "error",
     "traceback": [
      "\u001b[1;31mRunning cells with 'c:\\Users\\josse\\AppData\\Local\\Microsoft\\WindowsApps\\python3.11.exe' requires the ipykernel package.\n",
      "\u001b[1;31mRun the following command to install 'ipykernel' into the Python environment. \n",
      "\u001b[1;31mCommand: 'c:/Users/josse/AppData/Local/Microsoft/WindowsApps/python3.11.exe -m pip install ipykernel -U --user --force-reinstall'"
     ]
    }
   ],
   "source": [
    "1+1\n"
   ]
  },
  {
   "cell_type": "code",
   "execution_count": 1,
   "metadata": {},
   "outputs": [
    {
     "data": {
      "text/plain": [
       "2"
      ]
     },
     "execution_count": 1,
     "metadata": {},
     "output_type": "execute_result"
    }
   ],
   "source": [
    "1+1"
   ]
  },
  {
   "cell_type": "code",
   "execution_count": 2,
   "metadata": {},
   "outputs": [
    {
     "name": "stderr",
     "output_type": "stream",
     "text": [
      "'ls' n'est pas reconnu en tant que commande interne\n",
      "ou externe, un programme ex�cutable ou un fichier de commandes.\n"
     ]
    }
   ],
   "source": [
    "!ls"
   ]
  },
  {
   "cell_type": "code",
   "execution_count": 3,
   "metadata": {},
   "outputs": [
    {
     "name": "stdout",
     "output_type": "stream",
     "text": [
      " Le volume dans le lecteur C s'appelle Windows-SSD\n",
      " Le num�ro de s�rie du volume est AEB2-C099\n",
      "\n",
      " R�pertoire de c:\\Users\\josse\\Documents\\GitHub\\projet_6_OC\\notebooks\n",
      "\n",
      "29/03/2024  13:38    <DIR>          .\n",
      "29/03/2024  13:38    <DIR>          ..\n",
      "29/03/2024  13:53               490 a.ipynb\n",
      "               1 fichier(s)              490 octets\n",
      "               2 R�p(s)  406�675�480�576 octets libres\n"
     ]
    }
   ],
   "source": [
    "ls"
   ]
  },
  {
   "cell_type": "code",
   "execution_count": 4,
   "metadata": {},
   "outputs": [
    {
     "name": "stdout",
     "output_type": "stream",
     "text": [
      "\n",
      "Usage:   \n",
      "  C:\\Users\\josse\\AppData\\Local\\Microsoft\\WindowsApps\\PythonSoftwareFoundation.Python.3.11_qbz5n2kfra8p0\\python.exe -m pip <command> [options]\n",
      "\n",
      "Commands:\n",
      "  install                     Install packages.\n",
      "  download                    Download packages.\n",
      "  uninstall                   Uninstall packages.\n",
      "  freeze                      Output installed packages in requirements format.\n",
      "  inspect                     Inspect the python environment.\n",
      "  list                        List installed packages.\n",
      "  show                        Show information about installed packages.\n",
      "  check                       Verify installed packages have compatible dependencies.\n",
      "  config                      Manage local and global configuration.\n",
      "  search                      Search PyPI for packages.\n",
      "  cache                       Inspect and manage pip's wheel cache.\n",
      "  index                       Inspect information available from package indexes.\n",
      "  wheel                       Build wheels from your requirements.\n",
      "  hash                        Compute hashes of package archives.\n",
      "  completion                  A helper command used for command completion.\n",
      "  debug                       Show information useful for debugging.\n",
      "  help                        Show help for commands.\n",
      "\n",
      "General Options:\n",
      "  -h, --help                  Show help.\n",
      "  --debug                     Let unhandled exceptions propagate outside the\n",
      "                              main subroutine, instead of logging them to\n",
      "                              stderr.\n",
      "  --isolated                  Run pip in an isolated mode, ignoring\n",
      "                              environment variables and user configuration.\n",
      "  --require-virtualenv        Allow pip to only run in a virtual environment;\n",
      "                              exit with an error otherwise.\n",
      "  --python <python>           Run pip with the specified Python interpreter.\n",
      "  -v, --verbose               Give more output. Option is additive, and can be\n",
      "                              used up to 3 times.\n",
      "  -V, --version               Show version and exit.\n",
      "  -q, --quiet                 Give less output. Option is additive, and can be\n",
      "                              used up to 3 times (corresponding to WARNING,\n",
      "                              ERROR, and CRITICAL logging levels).\n",
      "  --log <path>                Path to a verbose appending log.\n",
      "  --no-input                  Disable prompting for input.\n",
      "  --keyring-provider <keyring_provider>\n",
      "                              Enable the credential lookup via the keyring\n",
      "                              library if user input is allowed. Specify which\n",
      "                              mechanism to use [disabled, import, subprocess].\n",
      "                              (default: disabled)\n",
      "  --proxy <proxy>             Specify a proxy in the form\n",
      "                              scheme://[user:passwd@]proxy.server:port.\n",
      "  --retries <retries>         Maximum number of retries each connection should\n",
      "                              attempt (default 5 times).\n",
      "  --timeout <sec>             Set the socket timeout (default 15 seconds).\n",
      "  --exists-action <action>    Default action when a path already exists:\n",
      "                              (s)witch, (i)gnore, (w)ipe, (b)ackup, (a)bort.\n",
      "  --trusted-host <hostname>   Mark this host or host:port pair as trusted,\n",
      "                              even though it does not have valid or any HTTPS.\n",
      "  --cert <path>               Path to PEM-encoded CA certificate bundle. If\n",
      "                              provided, overrides the default. See 'SSL\n",
      "                              Certificate Verification' in pip documentation\n",
      "                              for more information.\n",
      "  --client-cert <path>        Path to SSL client certificate, a single file\n",
      "                              containing the private key and the certificate\n",
      "                              in PEM format.\n",
      "  --cache-dir <dir>           Store the cache data in <dir>.\n",
      "  --no-cache-dir              Disable the cache.\n",
      "  --disable-pip-version-check\n",
      "                              Don't periodically check PyPI to determine\n",
      "                              whether a new version of pip is available for\n",
      "                              download. Implied with --no-index.\n",
      "  --no-color                  Suppress colored output.\n",
      "  --no-python-version-warning\n",
      "                              Silence deprecation warnings for upcoming\n",
      "                              unsupported Pythons.\n",
      "  --use-feature <feature>     Enable new functionality, that may be backward\n",
      "                              incompatible.\n",
      "  --use-deprecated <feature>  Enable deprecated functionality, that will be\n",
      "                              removed in the future.\n",
      "Note: you may need to restart the kernel to use updated packages.\n"
     ]
    }
   ],
   "source": [
    "pip -h"
   ]
  },
  {
   "cell_type": "code",
   "execution_count": 5,
   "metadata": {},
   "outputs": [
    {
     "ename": "SyntaxError",
     "evalue": "invalid syntax (4167228160.py, line 1)",
     "output_type": "error",
     "traceback": [
      "\u001b[1;36m  Cell \u001b[1;32mIn[5], line 1\u001b[1;36m\u001b[0m\n\u001b[1;33m    python3 -m virtualenv -h\u001b[0m\n\u001b[1;37m               ^\u001b[0m\n\u001b[1;31mSyntaxError\u001b[0m\u001b[1;31m:\u001b[0m invalid syntax\n"
     ]
    }
   ],
   "source": [
    "python3 -m virtualenv -h"
   ]
  },
  {
   "cell_type": "code",
   "execution_count": 6,
   "metadata": {},
   "outputs": [
    {
     "name": "stdout",
     "output_type": "stream",
     "text": [
      "usage: virtualenv [--version] [--with-traceback] [-v | -q] [--read-only-app-data] [--app-data APP_DATA] [--reset-app-data] [--upgrade-embed-wheels] [--discovery {builtin}] [-p py] [--try-first-with py_exe] [--creator {venv}]\n",
      "                  [--seeder {app-data,pip}] [--no-seed] [--activators comma_sep_list] [--clear] [--no-vcs-ignore] [--system-site-packages] [--copies] [--no-download | --download] [--extra-search-dir d [d ...]] [--pip version]\n",
      "                  [--setuptools version] [--wheel version] [--no-pip] [--no-setuptools] [--no-wheel] [--no-periodic-update] [--symlink-app-data] [--prompt prompt] [-h]\n",
      "                  dest\n",
      "\n",
      "options:\n",
      "  --version                     display the version of the virtualenv package and its location, then exit\n",
      "  --with-traceback              on failure also display the stacktrace internals of virtualenv (default: False)\n",
      "  --read-only-app-data          use app data folder in read-only mode (write operations will fail with error) (default: False)\n",
      "  --app-data APP_DATA           a data folder used as cache by the virtualenv (default: C:\\Users\\josse\\AppData\\Local\\Packages\\PythonSoftwareFoundation.Python.3.11_qbz5n2kfra8p0\\LocalCache\\Local\\pypa\\virtualenv)\n",
      "  --reset-app-data              start with empty app data folder (default: False)\n",
      "  --upgrade-embed-wheels        trigger a manual update of the embedded wheels (default: False)\n",
      "  -h, --help                    show this help message and exit\n",
      "\n",
      "verbosity:\n",
      "  verbosity = verbose - quiet, default INFO, mapping => CRITICAL=0, ERROR=1, WARNING=2, INFO=3, DEBUG=4, NOTSET=5\n",
      "\n",
      "  -v, --verbose                 increase verbosity (default: 2)\n",
      "  -q, --quiet                   decrease verbosity (default: 0)\n",
      "\n",
      "discovery:\n",
      "  discover and provide a target interpreter\n",
      "\n",
      "  --discovery {builtin}         interpreter discovery method (default: builtin)\n",
      "  -p py, --python py            interpreter based on what to create environment (path/identifier) - by default use the interpreter where the tool is installed - first found wins (default: [])\n",
      "  --try-first-with py_exe       try first these interpreters before starting the discovery (default: [])\n",
      "\n",
      "creator:\n",
      "  options for creator venv\n",
      "\n",
      "  --creator {venv}              create environment via (default: venv)\n",
      "  dest                          directory to create virtualenv at\n",
      "  --clear                       remove the destination directory if exist before starting (will overwrite files otherwise) (default: False)\n",
      "  --no-vcs-ignore               don't create VCS ignore directive in the destination directory (default: False)\n",
      "  --system-site-packages        give the virtual environment access to the system site-packages dir (default: False)\n",
      "  --copies, --always-copy       try to use copies rather than symlinks, even when symlinks are the default for the platform (default: True)\n",
      "\n",
      "seeder:\n",
      "  options for seeder app-data\n",
      "\n",
      "  --seeder {app-data,pip}       seed packages install method (default: app-data)\n",
      "  --no-seed, --without-pip      do not install seed packages (default: False)\n",
      "  --no-download, --never-download\n",
      "                                pass to disable download of the latest pip/setuptools/wheel from PyPI (default: True)\n",
      "  --download                    pass to enable download of the latest pip/setuptools/wheel from PyPI (default: False)\n",
      "  --extra-search-dir d [d ...]  a path containing wheels to extend the internal wheel list (can be set 1+ times) (default: [])\n",
      "  --pip version                 version of pip to install as seed: embed, bundle, none or exact version (default: bundle)\n",
      "  --setuptools version          version of setuptools to install as seed: embed, bundle, none or exact version (default: bundle)\n",
      "  --wheel version               version of wheel to install as seed: embed, bundle, none or exact version (default: bundle)\n",
      "  --no-pip                      do not install pip (default: False)\n",
      "  --no-setuptools               do not install setuptools (default: False)\n",
      "  --no-wheel                    do not install wheel (default: False)\n",
      "  --no-periodic-update          disable the periodic (once every 14 days) update of the embedded wheels (default: False)\n",
      "  --symlink-app-data            not supported - symlink the python packages from the app-data folder (requires seed pip>=19.3) (default: False)\n",
      "\n",
      "activators:\n",
      "  options for activation scripts\n",
      "\n",
      "  --activators comma_sep_list   activators to generate - default is all supported (default: bash,batch,fish,nushell,powershell,python)\n",
      "  --prompt prompt               provides an alternative prompt prefix for this environment (value of . means name of the current working directory) (default: None)\n",
      "\n",
      "config file C:\\Users\\josse\\AppData\\Local\\pypa\\virtualenv\\virtualenv.ini missing (change via env var VIRTUALENV_CONFIG_FILE)\n"
     ]
    }
   ],
   "source": [
    "!python3 -m virtualenv -h"
   ]
  },
  {
   "cell_type": "code",
   "execution_count": 7,
   "metadata": {},
   "outputs": [
    {
     "name": "stdout",
     "output_type": "stream",
     "text": [
      "usage: virtualenv [--version] [--with-traceback] [-v | -q] [--read-only-app-data] [--app-data APP_DATA] [--reset-app-data] [--upgrade-embed-wheels] [--discovery {builtin}] [-p py] [--try-first-with py_exe] [--creator {venv}]\n",
      "                  [--seeder {app-data,pip}] [--no-seed] [--activators comma_sep_list] [--clear] [--no-vcs-ignore] [--system-site-packages] [--copies] [--no-download | --download] [--extra-search-dir d [d ...]] [--pip version]\n",
      "                  [--setuptools version] [--wheel version] [--no-pip] [--no-setuptools] [--no-wheel] [--no-periodic-update] [--symlink-app-data] [--prompt prompt] [-h]\n",
      "                  dest\n",
      "\n",
      "options:\n",
      "  --version                     display the version of the virtualenv package and its location, then exit\n",
      "  --with-traceback              on failure also display the stacktrace internals of virtualenv (default: False)\n",
      "  --read-only-app-data          use app data folder in read-only mode (write operations will fail with error) (default: False)\n",
      "  --app-data APP_DATA           a data folder used as cache by the virtualenv (default: C:\\Users\\josse\\AppData\\Local\\Packages\\PythonSoftwareFoundation.Python.3.11_qbz5n2kfra8p0\\LocalCache\\Local\\pypa\\virtualenv)\n",
      "  --reset-app-data              start with empty app data folder (default: False)\n",
      "  --upgrade-embed-wheels        trigger a manual update of the embedded wheels (default: False)\n",
      "  -h, --help                    show this help message and exit\n",
      "\n",
      "verbosity:\n",
      "  verbosity = verbose - quiet, default INFO, mapping => CRITICAL=0, ERROR=1, WARNING=2, INFO=3, DEBUG=4, NOTSET=5\n",
      "\n",
      "  -v, --verbose                 increase verbosity (default: 2)\n",
      "  -q, --quiet                   decrease verbosity (default: 0)\n",
      "\n",
      "discovery:\n",
      "  discover and provide a target interpreter\n",
      "\n",
      "  --discovery {builtin}         interpreter discovery method (default: builtin)\n",
      "  -p py, --python py            interpreter based on what to create environment (path/identifier) - by default use the interpreter where the tool is installed - first found wins (default: [])\n",
      "  --try-first-with py_exe       try first these interpreters before starting the discovery (default: [])\n",
      "\n",
      "creator:\n",
      "  options for creator venv\n",
      "\n",
      "  --creator {venv}              create environment via (default: venv)\n",
      "  dest                          directory to create virtualenv at\n",
      "  --clear                       remove the destination directory if exist before starting (will overwrite files otherwise) (default: False)\n",
      "  --no-vcs-ignore               don't create VCS ignore directive in the destination directory (default: False)\n",
      "  --system-site-packages        give the virtual environment access to the system site-packages dir (default: False)\n",
      "  --copies, --always-copy       try to use copies rather than symlinks, even when symlinks are the default for the platform (default: True)\n",
      "\n",
      "seeder:\n",
      "  options for seeder app-data\n",
      "\n",
      "  --seeder {app-data,pip}       seed packages install method (default: app-data)\n",
      "  --no-seed, --without-pip      do not install seed packages (default: False)\n",
      "  --no-download, --never-download\n",
      "                                pass to disable download of the latest pip/setuptools/wheel from PyPI (default: True)\n",
      "  --download                    pass to enable download of the latest pip/setuptools/wheel from PyPI (default: False)\n",
      "  --extra-search-dir d [d ...]  a path containing wheels to extend the internal wheel list (can be set 1+ times) (default: [])\n",
      "  --pip version                 version of pip to install as seed: embed, bundle, none or exact version (default: bundle)\n",
      "  --setuptools version          version of setuptools to install as seed: embed, bundle, none or exact version (default: bundle)\n",
      "  --wheel version               version of wheel to install as seed: embed, bundle, none or exact version (default: bundle)\n",
      "  --no-pip                      do not install pip (default: False)\n",
      "  --no-setuptools               do not install setuptools (default: False)\n",
      "  --no-wheel                    do not install wheel (default: False)\n",
      "  --no-periodic-update          disable the periodic (once every 14 days) update of the embedded wheels (default: False)\n",
      "  --symlink-app-data            not supported - symlink the python packages from the app-data folder (requires seed pip>=19.3) (default: False)\n",
      "\n",
      "activators:\n",
      "  options for activation scripts\n",
      "\n",
      "  --activators comma_sep_list   activators to generate - default is all supported (default: bash,batch,fish,nushell,powershell,python)\n",
      "  --prompt prompt               provides an alternative prompt prefix for this environment (value of . means name of the current working directory) (default: None)\n",
      "\n",
      "config file C:\\Users\\josse\\AppData\\Local\\pypa\\virtualenv\\virtualenv.ini missing (change via env var VIRTUALENV_CONFIG_FILE)\n"
     ]
    }
   ],
   "source": [
    "!python3 -m virtualenv -h venv"
   ]
  },
  {
   "cell_type": "code",
   "execution_count": 9,
   "metadata": {},
   "outputs": [
    {
     "name": "stdout",
     "output_type": "stream",
     "text": [
      "FileNotFoundError: [WinError 2] Le fichier spécifié est introuvable: 'C:\\\\Users\\\\josse\\\\Documents\\\\GitHub\\\\projet_6_OC\\\\notebooks\\\\venv'\n"
     ]
    }
   ],
   "source": [
    "!python3 -m virtualenv venv"
   ]
  },
  {
   "cell_type": "code",
   "execution_count": 10,
   "metadata": {},
   "outputs": [
    {
     "name": "stderr",
     "output_type": "stream",
     "text": [
      "ERROR: Could not open requirements file: [Errno 2] No such file or directory: 'requirements.txt'\n"
     ]
    }
   ],
   "source": [
    "!pip install -r requirements.txt"
   ]
  },
  {
   "cell_type": "code",
   "execution_count": null,
   "metadata": {},
   "outputs": [],
   "source": [
    "import csv ()"
   ]
  },
  {
   "cell_type": "code",
   "execution_count": 12,
   "metadata": {},
   "outputs": [
    {
     "ename": "NameError",
     "evalue": "name 'pd' is not defined",
     "output_type": "error",
     "traceback": [
      "\u001b[1;31m---------------------------------------------------------------------------\u001b[0m",
      "\u001b[1;31mNameError\u001b[0m                                 Traceback (most recent call last)",
      "Cell \u001b[1;32mIn[12], line 1\u001b[0m\n\u001b[1;32m----> 1\u001b[0m \u001b[43mpd\u001b[49m\u001b[38;5;241m.\u001b[39mread_csv(\u001b[38;5;124m\"\u001b[39m\u001b[38;5;124mdata\u001b[39m\u001b[38;5;124m\\\u001b[39m\u001b[38;5;124mERP P6.csv\u001b[39m\u001b[38;5;124m\"\u001b[39m)\n",
      "\u001b[1;31mNameError\u001b[0m: name 'pd' is not defined"
     ]
    }
   ],
   "source": [
    "pd.read_csv(\"data\\ERP P6.csv\")"
   ]
  }
 ],
 "metadata": {
  "kernelspec": {
   "display_name": "Python 3",
   "language": "python",
   "name": "python3"
  },
  "language_info": {
   "codemirror_mode": {
    "name": "ipython",
    "version": 3
   },
   "file_extension": ".py",
   "mimetype": "text/x-python",
   "name": "python",
   "nbconvert_exporter": "python",
   "pygments_lexer": "ipython3",
   "version": "3.11.8"
  }
 },
 "nbformat": 4,
 "nbformat_minor": 2
}
