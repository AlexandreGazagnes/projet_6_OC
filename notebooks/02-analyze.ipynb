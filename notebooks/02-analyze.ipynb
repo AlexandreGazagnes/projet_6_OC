{
 "cells": [
  {
   "cell_type": "code",
   "execution_count": 25,
   "metadata": {},
   "outputs": [],
   "source": [
    "import numpy as np\n",
    "import pandas as pd\n",
    "import matplotlib.pyplot as plt\n",
    "import seaborn as sns"
   ]
  },
  {
   "cell_type": "code",
   "execution_count": 26,
   "metadata": {},
   "outputs": [],
   "source": [
    "allin_for_analyze = pd.read_csv(\"../data/allin_for_analyze.csv\")"
   ]
  },
  {
   "cell_type": "markdown",
   "metadata": {},
   "source": [
    "# Analyser le chiffre d’affaires #"
   ]
  },
  {
   "cell_type": "markdown",
   "metadata": {},
   "source": [
    "## CA / produit ALL ##"
   ]
  },
  {
   "cell_type": "code",
   "execution_count": 27,
   "metadata": {},
   "outputs": [],
   "source": [
    "# Calcul du chiffre d'affaires pour chaque produit\n",
    "#allin['total_revenue'] = allin['price'] * allin['total_sales']\n"
   ]
  },
  {
   "cell_type": "code",
   "execution_count": 28,
   "metadata": {},
   "outputs": [],
   "source": [
    "total_revenue_product = allin_for_analyze['price'] * allin_for_analyze['total_sales']"
   ]
  },
  {
   "cell_type": "markdown",
   "metadata": {},
   "source": [
    "## CA/ produit WEB ##"
   ]
  },
  {
   "cell_type": "code",
   "execution_count": 29,
   "metadata": {},
   "outputs": [
    {
     "name": "stderr",
     "output_type": "stream",
     "text": [
      "C:\\Users\\josse\\AppData\\Local\\Temp\\ipykernel_8480\\2889598757.py:5: SettingWithCopyWarning: \n",
      "A value is trying to be set on a copy of a slice from a DataFrame.\n",
      "Try using .loc[row_indexer,col_indexer] = value instead\n",
      "\n",
      "See the caveats in the documentation: https://pandas.pydata.org/pandas-docs/stable/user_guide/indexing.html#returning-a-view-versus-a-copy\n",
      "  filtered_allin_FA['total_revenue'] = filtered_allin_FA['price'] * filtered_allin_FA['total_sales']\n"
     ]
    }
   ],
   "source": [
    "# Filtrer les produits où la valeur de la colonne \"onsaleweb\" est True\n",
    "filtered_allin_FA = allin_for_analyze[allin_for_analyze['onsale_web'] == True]\n",
    "\n",
    "# Calcul du chiffre d'affaires pour chaque produit filtré\n",
    "filtered_allin_FA['total_revenue'] = filtered_allin_FA['price'] * filtered_allin_FA['total_sales']\n"
   ]
  },
  {
   "cell_type": "code",
   "execution_count": 30,
   "metadata": {},
   "outputs": [
    {
     "name": "stdout",
     "output_type": "stream",
     "text": [
      "      product_id  price  total_sales  total_revenue\n",
      "0           4158   18.5          0.0            0.0\n",
      "1           4158   18.5          0.0            0.0\n",
      "2           5826   41.2          4.0          164.8\n",
      "3           5826   41.2          4.0          164.8\n",
      "4           5827   55.0          3.0          165.0\n",
      "...          ...    ...          ...            ...\n",
      "1416        4115  100.0          0.0            0.0\n",
      "1417        4108   31.7          2.0           63.4\n",
      "1418        4108   31.7          2.0           63.4\n",
      "1419        4138   25.7          6.0          154.2\n",
      "1420        4138   25.7          6.0          154.2\n",
      "\n",
      "[1420 rows x 4 columns]\n"
     ]
    }
   ],
   "source": [
    "print(filtered_allin_FA[['product_id', 'price', 'total_sales', 'total_revenue']])"
   ]
  },
  {
   "cell_type": "code",
   "execution_count": 31,
   "metadata": {},
   "outputs": [],
   "source": [
    "#filtered_allin_FA.to_csv('ca_products_.csv', index=False)"
   ]
  },
  {
   "cell_type": "markdown",
   "metadata": {},
   "source": [
    "## Total chiffre d’affaires réalisé en ligne ##"
   ]
  },
  {
   "cell_type": "code",
   "execution_count": 34,
   "metadata": {},
   "outputs": [
    {
     "name": "stdout",
     "output_type": "stream",
     "text": [
      "Total chiffre d'affaires des produits en ligne : 140637.2\n"
     ]
    }
   ],
   "source": [
    "total_revenue_web = filtered_allin_FA.loc[filtered_allin_FA['onsale_web'] == True, 'total_revenue'].sum()\n",
    "print(\"Total chiffre d'affaires des produits en ligne :\", total_revenue_web)"
   ]
  },
  {
   "cell_type": "code",
   "execution_count": 38,
   "metadata": {},
   "outputs": [
    {
     "name": "stdout",
     "output_type": "stream",
     "text": [
      "Total chiffre d'affaires des produits en ligne : 140637.2\n"
     ]
    }
   ],
   "source": [
    "total_revenue_webv2 = filtered_allin_FA['total_revenue'].sum()\n",
    "print(\"Total chiffre d'affaires des produits en ligne :\", total_revenue_webv2)"
   ]
  },
  {
   "cell_type": "markdown",
   "metadata": {},
   "source": [
    "# Analyse sur la variable des erreurs de prix #"
   ]
  },
  {
   "cell_type": "code",
   "execution_count": null,
   "metadata": {},
   "outputs": [],
   "source": []
  },
  {
   "cell_type": "markdown",
   "metadata": {},
   "source": []
  }
 ],
 "metadata": {
  "kernelspec": {
   "display_name": "Python 3",
   "language": "python",
   "name": "python3"
  },
  "language_info": {
   "codemirror_mode": {
    "name": "ipython",
    "version": 3
   },
   "file_extension": ".py",
   "mimetype": "text/x-python",
   "name": "python",
   "nbconvert_exporter": "python",
   "pygments_lexer": "ipython3",
   "version": "3.11.9"
  }
 },
 "nbformat": 4,
 "nbformat_minor": 2
}
